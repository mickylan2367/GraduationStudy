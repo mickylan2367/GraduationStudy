version https://git-lfs.github.com/spec/v1
oid sha256:5db57b8f0fa6b5b9bc096180ea164e4d294cd657ac58c61a946691167f5ffa72
size 811223
