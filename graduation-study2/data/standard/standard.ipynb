version https://git-lfs.github.com/spec/v1
oid sha256:4216349d6ef5458aa803bee5fae571762996dc0648e605bd8b2b986f199af906
size 1614338
