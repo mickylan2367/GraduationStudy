version https://git-lfs.github.com/spec/v1
oid sha256:d0858b4318fe6dd08a63eecba58bf2e6c6f7fae4dc0fb13e90e6d577a133c910
size 24430
