version https://git-lfs.github.com/spec/v1
oid sha256:ea6f9bc87f971defcbc069e2a98ba00f50a7cbfde694dbc5eb70f53d21d21c36
size 1492710
