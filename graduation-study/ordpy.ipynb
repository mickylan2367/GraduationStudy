version https://git-lfs.github.com/spec/v1
oid sha256:407ff2241dc28ffa6bf0570b7e67550166f58ca6c045b94d45256180bbd84221
size 43227
